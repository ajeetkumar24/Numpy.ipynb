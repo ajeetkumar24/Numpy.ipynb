{
  "nbformat": 4,
  "nbformat_minor": 0,
  "metadata": {
    "colab": {
      "provenance": []
    },
    "kernelspec": {
      "name": "python3",
      "display_name": "Python 3"
    },
    "language_info": {
      "name": "python"
    }
  },
  "cells": [
    {
      "cell_type": "markdown",
      "source": [],
      "metadata": {
        "id": "n32nkHZhisf-"
      }
    },
    {
      "cell_type": "markdown",
      "source": [
        "\n",
        "# **Theoretical Questions:**\n"
      ],
      "metadata": {
        "id": "tPcYqDfuixnA"
      }
    },
    {
      "cell_type": "code",
      "source": [
        "#1. Explain the purpose and advantages of NumPy in scientific computing and data analysis. How does it\n",
        "enhance Python's capabilities for numerical operations?"
      ],
      "metadata": {
        "id": "ab-mpQQjic4r"
      },
      "execution_count": null,
      "outputs": []
    },
    {
      "cell_type": "markdown",
      "source": [
        "NumPy is a Python library primarily used for efficient numerical computations, particularly with large datasets, by providing powerful multidimensional arrays and optimized mathematical functions, significantly enhancing Python's capabilities for scientific computing and data analysis by offering high performance, memory efficiency, and a concise syntax for complex operations compared to standard Python lists; making it a cornerstone for tasks like linear algebra, signal processing, and machine learning within the Python ecosystem.\n",
        "\n",
        "**Key advantages of NumPy:**\n",
        "\n",
        "* High Performance:\n",
        "NumPy leverages optimized C libraries to perform calculations on arrays much faster than using standard Python loops, making it ideal for large-scale data processing.\n",
        "\n",
        "\n",
        "**Memory Efficiency:**\n",
        "\n",
        "* NumPy arrays store data in contiguous memory blocks, reducing memory overhead and improving access speed compared to Python lists.\n",
        "\n",
        "* Multidimensional Arrays:\n",
        "NumPy's core data structure, the \"ndarray\" (n-dimensional array), allows for efficient manipulation of data in multiple dimensions, crucial for tasks like matrix operations and image processing.\n",
        "\n",
        "* Vectorized Operations:\n",
        "NumPy enables performing operations on entire arrays element-wise, significantly reducing the need for explicit loops and improving code readability.\n",
        "\n",
        "Extensive Mathematical Functions:\n",
        "NumPy provides a comprehensive set of mathematical functions including trigonometric, linear algebra, statistical operations, and more, readily accessible for complex calculations.\n",
        "Integration with other Libraries:\n",
        "Many popular scientific computing libraries in Python, like SciPy and scikit-learn, are built on top of NumPy, allowing seamless integration and data exchange.\n",
        "\n",
        "**Extensive Mathematical Functions:**\n",
        "\n",
        "* NumPy provides a comprehensive set of mathematical functions including trigonometric, linear algebra, statistical operations, and more, readily accessible for complex calculations.\n",
        "\n",
        "* Integration with other Libraries:\n",
        "Many popular scientific computing libraries in Python, like SciPy and scikit-learn, are built on top of NumPy, allowing seamless integration and data exchange.\n",
        "\n",
        "\n",
        "**How NumPy enhances Python for numerical operations:**\n",
        "\n",
        "Simplified Syntax:\n",
        "\n",
        "* NumPy provides a user-friendly syntax for performing complex mathematical operations on arrays, making code more concise and easier to read.\n",
        "\n",
        "* Optimized for Large Datasets:\n",
        "By leveraging compiled code, NumPy enables efficient processing of large datasets, which would be significantly slower with standard Python loops.\n",
        "\n",
        "* Advanced Data Manipulation:\n",
        "NumPy arrays can be easily sliced, indexed, and reshaped to access specific data subsets and perform transformations.\n",
        "\n",
        "\n",
        "Example Use Cases:\n",
        "\n",
        "* Data Analysis:\n",
        "Calculating descriptive statistics like mean, standard deviation, or correlations across large datasets\n",
        "\n",
        "* Scientific Simulations:\n",
        "Solving differential equations or performing numerical integration in computational modeling"
      ],
      "metadata": {
        "id": "LoGy6LBsjmEu"
      }
    },
    {
      "cell_type": "code",
      "source": [],
      "metadata": {
        "id": "i1UdV2brlxNx"
      },
      "execution_count": null,
      "outputs": []
    },
    {
      "cell_type": "code",
      "source": [],
      "metadata": {
        "id": "4N0lNIpYl1Pw"
      },
      "execution_count": null,
      "outputs": []
    },
    {
      "cell_type": "code",
      "source": [],
      "metadata": {
        "id": "B5g9R3JAl1LU"
      },
      "execution_count": null,
      "outputs": []
    },
    {
      "cell_type": "code",
      "source": [
        "#2. Compare and contrast np.mean() and np.average() functions in NumPy. When would you use one over the\n",
        "other?"
      ],
      "metadata": {
        "id": "bK9KI_87l1H6"
      },
      "execution_count": null,
      "outputs": []
    },
    {
      "cell_type": "markdown",
      "source": [
        "The main difference between the np.mean() and np.average() functions in NumPy is that np.average() allows you to consider the significance of numbers by using weights, while np.mean() is for a straightforward average of numbers:\n",
        "\n",
        "\n",
        "**np.mean()**\n",
        "\n",
        "Calculates the arithmetic mean of an array along a specific axis. The default is along the flattened axis.\n",
        "\n",
        "**np.average()**\n",
        "\n",
        "Calculates the weighted average along a specified axis. It takes an optional weight argument, which is not available in the np.mean() function.\n",
        "\n",
        "\"NumPy is an open-source Python library for scientific and mathematical computing. It contains a collection of high-level mathematical functions, including support for multi-dimensional arrays, masked arrays, and matrices\".\n"
      ],
      "metadata": {
        "id": "2Dz66KbUl87s"
      }
    },
    {
      "cell_type": "markdown",
      "source": [
        "onclusion\n",
        "\n",
        "In numpy library, both np.mean() and np.average() can be used to calculate arithmetic mean. The differenece comes when we have to perform average on weighted array. np.average() gives us flexibilty to work with the weighted arrays too. If we pass the weight of the array to the function, it can perform weighted average at very ease. That is not the case for the np.mean(). It can only be perfomred on non-weighted arrays"
      ],
      "metadata": {
        "id": "w9s-LOBmnSbR"
      }
    },
    {
      "cell_type": "code",
      "source": [],
      "metadata": {
        "id": "BISP-nb8pAeK"
      },
      "execution_count": null,
      "outputs": []
    },
    {
      "cell_type": "code",
      "source": [],
      "metadata": {
        "id": "d9k0xUP5pBdL"
      },
      "execution_count": null,
      "outputs": []
    },
    {
      "cell_type": "code",
      "source": [],
      "metadata": {
        "id": "CWqel_LapBOn"
      },
      "execution_count": null,
      "outputs": []
    },
    {
      "cell_type": "code",
      "source": [
        "#3. Describe the methods for reversing a NumPy array along different axes. Provide examples for 1D and 2D\n",
        "arrays"
      ],
      "metadata": {
        "id": "OPGKKHKXpBCr"
      },
      "execution_count": null,
      "outputs": []
    },
    {
      "cell_type": "markdown",
      "source": [
        "Reversing a NumPy array along different axes can be achieved using various methods. Here are detailed explanations and examples for both 1D and 2D arrays"
      ],
      "metadata": {
        "id": "Uo7MFnIcwRuY"
      }
    },
    {
      "cell_type": "markdown",
      "source": [],
      "metadata": {
        "id": "vVpV5WNEpFmo"
      }
    },
    {
      "cell_type": "code",
      "source": [],
      "metadata": {
        "id": "7-ciFgCgwUhW"
      },
      "execution_count": null,
      "outputs": []
    },
    {
      "cell_type": "markdown",
      "source": [
        "1. Reversing a 1D\n",
        "\n",
        "* a. Using Slicing\n",
        "\n",
        "I can reverse a 1D array by using slicing with a step of -1.\n",
        "\n",
        "\n",
        "\n",
        "* b. Using np.flip\n",
        "\n",
        "The np.flip function can also reverse a 1D array.\n",
        "\n",
        "\n",
        "\n"
      ],
      "metadata": {
        "id": "BFqxNM68wt51"
      }
    },
    {
      "cell_type": "code",
      "source": [
        "import numpy as np\n",
        "\n",
        "# Create a 1D array\n",
        "arr_1d = np.array([1, 2, 3, 4, 5])\n",
        "\n",
        "# Reverse the array\n",
        "reversed_1d = arr_1d[::-1]\n",
        "print(reversed_1d)\n"
      ],
      "metadata": {
        "colab": {
          "base_uri": "https://localhost:8080/"
        },
        "id": "nZx2-rLsw0LB",
        "outputId": "92ba5532-4282-4eb1-f925-d99ffd6f6fb2"
      },
      "execution_count": 1,
      "outputs": [
        {
          "output_type": "stream",
          "name": "stdout",
          "text": [
            "[5 4 3 2 1]\n"
          ]
        }
      ]
    },
    {
      "cell_type": "code",
      "source": [
        "print(reversed_1d)"
      ],
      "metadata": {
        "colab": {
          "base_uri": "https://localhost:8080/"
        },
        "id": "TwNQiTlvxUkI",
        "outputId": "ced5128b-85f1-4885-822d-fe358b6f4c1c"
      },
      "execution_count": 2,
      "outputs": [
        {
          "output_type": "stream",
          "name": "stdout",
          "text": [
            "[5 4 3 2 1]\n"
          ]
        }
      ]
    },
    {
      "cell_type": "code",
      "source": [
        "# Reverse using np.flip\n",
        "reversed_1d_flip = np.flip(arr_1d)\n",
        "print(reversed_1d_flip)"
      ],
      "metadata": {
        "colab": {
          "base_uri": "https://localhost:8080/"
        },
        "id": "n8njK9bUw4R-",
        "outputId": "8fb79e37-5f72-4003-9351-56c0abf24792"
      },
      "execution_count": 4,
      "outputs": [
        {
          "output_type": "stream",
          "name": "stdout",
          "text": [
            "[5 4 3 2 1]\n"
          ]
        }
      ]
    },
    {
      "cell_type": "markdown",
      "source": [
        "**2. Reversing a 2D Array**\n",
        "\n",
        "* a. Reversing Rows:\n",
        "\n",
        "I can reverse a 2D array along the first axis (rows) using slicing or np.flip."
      ],
      "metadata": {
        "id": "VDpZ0RBYxsaf"
      }
    },
    {
      "cell_type": "code",
      "source": [
        "# Create a 2D array\n",
        "arr_2d = np.array([[1, 2, 3],\n",
        "                   [4, 5, 6],\n",
        "                   [7, 8, 9]])\n",
        "\n",
        "# Reverse rows using slicing\n",
        "reversed_rows = arr_2d[::-1]\n",
        "print(reversed_rows)\n",
        "# Output:\n",
        "# [[7 8 9]\n",
        "#  [4 5 6]\n",
        "#  [1 2 3]]\n",
        "\n",
        "# Reverse rows using np.flip\n",
        "reversed_rows_flip = np.flip(arr_2d, axis=0)\n",
        "print(reversed_rows_flip)\n",
        "# Output:\n",
        "# [[7 8 9]\n",
        "#  [4 5 6]\n",
        "#  [1 2 3]]\n"
      ],
      "metadata": {
        "id": "Amjgx50Ox5oP"
      },
      "execution_count": null,
      "outputs": []
    },
    {
      "cell_type": "code",
      "source": [],
      "metadata": {
        "id": "8fu9nigSx91k"
      },
      "execution_count": null,
      "outputs": []
    },
    {
      "cell_type": "markdown",
      "source": [
        "* b. Reversing Columns:\n",
        "\n",
        "To reverse a 2D array along the second axis (columns), use slicing or np.flip.\n",
        "\n"
      ],
      "metadata": {
        "id": "ABcDf9MpyJOG"
      }
    },
    {
      "cell_type": "code",
      "source": [
        "# Reverse columns using slicing\n",
        "reversed_columns = arr_2d[:, ::-1]\n",
        "print(reversed_columns)\n",
        "# Output:\n",
        "# [[3 2 1]\n",
        "#  [6 5 4]\n",
        "#  [9 8 7]]\n",
        "\n",
        "# Reverse columns using np.flip\n",
        "reversed_columns_flip = np.flip(arr_2d, axis=1)\n",
        "print(reversed_columns_flip)\n",
        "# Output:\n",
        "# [[3 2 1]\n",
        "#  [6 5 4]\n",
        "#  [9 8 7]]\n"
      ],
      "metadata": {
        "id": "BiS4v2L1yOEA"
      },
      "execution_count": null,
      "outputs": []
    },
    {
      "cell_type": "markdown",
      "source": [
        "**Summary**\n",
        "\n",
        "* 1D Arrays:  \n",
        "Use slicing [::-1] or np.flip to reverse.\n",
        "\n",
        "* 2D Arrays:\n",
        "    * .Reverse rows: arr[::-1] or np.flip(arr, axis=0).\n",
        "    * .Reverse columns: arr[:, ::-1] or np.flip(arr, axis=1).\n",
        "    *.Reverse both axes: np.flip(arr).\n",
        "    \n",
        "These methods provide flexible options for reversing arrays in NumPy!\n",
        "\n",
        "\n",
        "\n"
      ],
      "metadata": {
        "id": "IruP6ramyafd"
      }
    },
    {
      "cell_type": "code",
      "source": [],
      "metadata": {
        "id": "l4qoJj-gy657"
      },
      "execution_count": null,
      "outputs": []
    },
    {
      "cell_type": "code",
      "source": [],
      "metadata": {
        "id": "_88l7-g6y7XH"
      },
      "execution_count": null,
      "outputs": []
    },
    {
      "cell_type": "code",
      "source": [
        "#4. How can you determine the data type of elements in a NumPy array? Discuss the importance of data types\n",
        "in memory management and performance."
      ],
      "metadata": {
        "id": "BxySiT-ky7Tv"
      },
      "execution_count": null,
      "outputs": []
    },
    {
      "cell_type": "markdown",
      "source": [
        "In NumPy, I can determine the data type of elements in an array using the .dtype attribute. Here’s how I can do it:\n",
        "\n"
      ],
      "metadata": {
        "id": "OGgzqR2G4mKU"
      }
    },
    {
      "cell_type": "code",
      "source": [
        "import numpy as np\n",
        "\n",
        "# Create a NumPy array\n",
        "array = np.array([1, 2, 3, 4])\n",
        "\n",
        "# Check the data type\n",
        "data_type = array.dtype\n",
        "print(data_type)  # Output: int64 (or int32 depending on your system)\n"
      ],
      "metadata": {
        "colab": {
          "base_uri": "https://localhost:8080/"
        },
        "id": "1yz3z8jf4raA",
        "outputId": "7c77f2a2-3cbd-498b-a4be-5145b239f9b0"
      },
      "execution_count": 5,
      "outputs": [
        {
          "output_type": "stream",
          "name": "stdout",
          "text": [
            "int64\n"
          ]
        }
      ]
    },
    {
      "cell_type": "markdown",
      "source": [
        "**Importance of Data Types**\n",
        "\n",
        "1. emory Management:\n",
        "Different data types require different amounts of memory. For instance, an int32 uses 4 bytes, while an int64 uses 8 bytes. By choosing the appropriate data type, I can significantly reduce memory usage, which is crucial when working with large datasets.\n",
        "\n",
        "2. Performance:\n",
        "\n",
        "Operations on arrays with smaller data types can be faster, as they require less bandwidth and processing power. For example, performing computations on float32 arrays is generally faster than on float64 arrays due to lower memory usage and reduced computational overhead.\n",
        "\n",
        "3. Precision:\n",
        "\n",
        "The choice of data type can also affect the precision of calculations. Using a float64 instead of float32 may be necessary for applications requiring higher precision, but this comes at the cost of increased memory usage.\n",
        "\n",
        "4. Type Safety:\n",
        "\n",
        "NumPy enforces a consistent data type across arrays, which helps prevent bugs and improves code clarity. It ensures that operations on arrays yield predictable results.\n"
      ],
      "metadata": {
        "id": "6FA-rnDN486K"
      }
    },
    {
      "cell_type": "code",
      "source": [],
      "metadata": {
        "id": "yOSA54wI5dv0"
      },
      "execution_count": null,
      "outputs": []
    },
    {
      "cell_type": "code",
      "source": [],
      "metadata": {
        "id": "LLydDVn25er8"
      },
      "execution_count": null,
      "outputs": []
    },
    {
      "cell_type": "code",
      "source": [
        "#5. Define ndarrays in NumPy and explain their key features. How do they differ from standard Python lists?"
      ],
      "metadata": {
        "id": "vZTLNPRh5eeS"
      },
      "execution_count": null,
      "outputs": []
    },
    {
      "cell_type": "markdown",
      "source": [
        "In NumPy, ndarrays (N-dimensional arrays) are the core data structure that allows for efficient numerical computations. Here are their key features:\n",
        "\n",
        "**Key Features of ndarrays:**\n",
        "1. Homogeneous Data:\n",
        "\n",
        "All elements in an ndarray must be of the same data type, which allows for more efficient storage and computation.\n",
        "\n",
        "2. Multidimensional:\n",
        "\n",
        "Ndarrays can have any number of dimensions (1D, 2D, 3D, etc.), allowing for complex data structures such as matrices and tensors.\n",
        "\n",
        "3. Contiguous Memory Allocation:\n",
        "\n",
        "Ndarrays are stored in contiguous memory locations, which improves cache efficiency and speeds up operations compared to non-contiguous data structures.\n",
        "\n",
        "4. Vectorized Operations:\n",
        "\n",
        "Ndarrays support element-wise operations, which means you can perform operations on entire arrays without writing explicit loops. This leads to cleaner and faster code.\n",
        "\n",
        "5. Broadcasting:\n",
        "\n",
        "NumPy provides broadcasting, allowing operations between arrays of different shapes, automatically expanding the smaller array to match the shape of the larger one.\n",
        "\n",
        "6. Rich Functionality:\n",
        "\n",
        "Ndarrays come with a vast library of mathematical and statistical functions that can be applied directly, enabling complex operations with minimal code.\n",
        "\n",
        "\n",
        "\n",
        "**Differences from Standard Python Lists:**\n",
        "\n",
        "1. Data Type:\n",
        "\n",
        "Python lists can contain mixed data types (e.g., integers, floats, strings), while ndarrays require all elements to be of the same type.\n",
        "\n",
        "2. Performance:\n",
        "\n",
        "Ndarrays are optimized for numerical operations and are generally faster than Python lists for large datasets due to their contiguous memory allocation and efficient algorithms.\n",
        "\n",
        "3. Dimensionality:\n",
        "\n",
        "Ndarrays can have multiple dimensions (e.g., matrices, tensors), while Python lists are inherently one-dimensional unless you create nested lists.\n",
        "\n",
        "4. Functionality:\n",
        "\n",
        "NumPy provides a wide array of mathematical functions and operations specifically designed for ndarrays, which are not available for standard lists. Operations like element-wise addition, multiplication, and linear algebra can be performed directly on ndarrays.\n",
        "\n",
        "5. Memory Efficiency:\n",
        "\n",
        "Ndarrays are more memory-efficient for large datasets since they use a fixed type for all elements, reducing overhead compared to Python lists, which can require additional memory for type information.\n",
        "\n",
        "\n",
        "In summary, ndarrays are a powerful and efficient alternative to Python lists, particularly for numerical computations, due to their structured design and optimized performance."
      ],
      "metadata": {
        "id": "IyOngQZP53Qy"
      }
    },
    {
      "cell_type": "code",
      "source": [],
      "metadata": {
        "id": "3HjhGTxu6yF-"
      },
      "execution_count": null,
      "outputs": []
    },
    {
      "cell_type": "code",
      "source": [],
      "metadata": {
        "id": "ds394VyB6zC4"
      },
      "execution_count": null,
      "outputs": []
    },
    {
      "cell_type": "code",
      "source": [],
      "metadata": {
        "id": "GVQVwG3R6y45"
      },
      "execution_count": null,
      "outputs": []
    },
    {
      "cell_type": "code",
      "source": [
        "#6. Analyze the performance benefits of NumPy arrays over Python lists for large-scale numerical operations."
      ],
      "metadata": {
        "id": "qtIUyjJv6yu4"
      },
      "execution_count": null,
      "outputs": []
    },
    {
      "cell_type": "markdown",
      "source": [
        "NumPy arrays offer significant performance benefits over standard Python lists, especially for large-scale numerical operations. Here’s an analysis of these benefits:\n",
        "\n",
        "1. Speed of Computation:\n",
        "\n",
        "    *  Vectorization: NumPy allows for vectorized operations, enabling element-wise computations without explicit loops. This leads to optimized execution in compiled code rather than interpreted Python code, making operations on large datasets much faster.\n",
        "\n",
        "    * C-based Backend: NumPy is built on C and Fortran libraries, leveraging low-level optimizations. This reduces overhead and enhances performance for numerical operations compared to the slower Python list operations.\n",
        "\n",
        "2. Memory Efficiency:\n",
        "\n",
        "    * Contiguous Memory Storage: NumPy arrays are stored in contiguous blocks of memory, which improves cache coherence. This means that accessing consecutive elements is faster, as they are likely to be loaded into CPU cache.\n",
        "\n",
        "    * Fixed Data Types: Ndarrays require elements to be of a uniform type, which allows for more compact storage. In contrast, Python lists can contain elements of different types, which adds overhead for type management and can lead to larger memory usage.\n",
        "\n",
        "3. Reduced Overhead:\n",
        "\n",
        "      * Lower Memory Footprint: NumPy uses less memory per element than Python lists because of its fixed-size data types and more efficient memory handling. For large datasets, this can lead to substantial savings.\n",
        "\n",
        "      * Fewer Function Calls: Operations on NumPy arrays are often implemented as single calls to optimized functions, whereas Python lists may involve multiple function calls and Python-level loops, increasing execution time.\n",
        "\n",
        "4. Advanced Features:\n",
        "\n",
        "  * Broadcasting: NumPy’s broadcasting allows operations on arrays of different shapes without the need for manual replication of data. This feature simplifies code and improves performance by avoiding unnecessary memory usage.\n",
        "\n",
        "  * Built-in Mathematical Functions: NumPy provides a wide range of optimized mathematical functions that can be applied directly to arrays, allowing for high-performance computations without the need for custom implementations.\n",
        "\n",
        "5. Parallelism and Optimization:\n",
        "\n",
        " * Many NumPy operations can be optimized using parallel processing and low-level optimizations, further improving performance. For instance, certain NumPy functions can utilize multiple cores or hardware acceleration.\n",
        "**Conclusion:**\n",
        "\n",
        "For large-scale numerical operations, the performance benefits of using NumPy arrays over Python lists are clear. The combination of speed, memory efficiency, reduced overhead, and advanced features makes NumPy a preferred choice for numerical and scientific computing. These advantages become especially pronounced as the size and complexity of the data increase, enabling faster and more efficient data processing.\n",
        "\n",
        "\n",
        "\n",
        "\n"
      ],
      "metadata": {
        "id": "71G2VN2w7H4Z"
      }
    },
    {
      "cell_type": "code",
      "source": [],
      "metadata": {
        "id": "Eykhj2WQ8u65"
      },
      "execution_count": null,
      "outputs": []
    },
    {
      "cell_type": "code",
      "source": [],
      "metadata": {
        "id": "OvzZb9OM8v1f"
      },
      "execution_count": null,
      "outputs": []
    },
    {
      "cell_type": "code",
      "source": [],
      "metadata": {
        "id": "EjvbSkyG8vqR"
      },
      "execution_count": null,
      "outputs": []
    },
    {
      "cell_type": "code",
      "source": [
        "#7. Compare vstack() and hstack() functions in NumPy. Provide examples demonstrating their usage and\n",
        "output"
      ],
      "metadata": {
        "id": "L7nGY60U87R4"
      },
      "execution_count": null,
      "outputs": []
    },
    {
      "cell_type": "markdown",
      "source": [
        "In NumPy, the vstack() and hstack() functions are used to stack arrays vertically and horizontally, respectively. Here’s a comparison of the two, along with examples demonstrating their usage.\n",
        "\n",
        "**vstack()**\n",
        "\n",
        "* Function: Stacks arrays vertically (row-wise).\n",
        "* Usage: Combines arrays along the vertical axis (axis=0).\n",
        "\n",
        "Example of vstack()\n"
      ],
      "metadata": {
        "id": "2KToTRnp9C_N"
      }
    },
    {
      "cell_type": "code",
      "source": [
        "import numpy as np\n",
        "\n",
        "# Create two 2D arrays\n",
        "array1 = np.array([[1, 2], [3, 4]])\n",
        "array2 = np.array([[5, 6]])\n",
        "\n",
        "# Stack arrays vertically\n",
        "result_vstack = np.vstack((array1, array2))\n",
        "\n",
        "print(\"Result of vstack:\")\n",
        "print(result_vstack)\n"
      ],
      "metadata": {
        "colab": {
          "base_uri": "https://localhost:8080/"
        },
        "id": "FYBD-zLN9l9Y",
        "outputId": "aa911443-1584-4d41-de13-d362bbcfa38d"
      },
      "execution_count": 6,
      "outputs": [
        {
          "output_type": "stream",
          "name": "stdout",
          "text": [
            "Result of vstack:\n",
            "[[1 2]\n",
            " [3 4]\n",
            " [5 6]]\n"
          ]
        }
      ]
    },
    {
      "cell_type": "markdown",
      "source": [
        "**hstack()**\n",
        "\n",
        "* Function: Stacks arrays horizontally (column-wise).\n",
        "* Usage: Combines arrays along the horizontal axis (axis=1).\n",
        "\n",
        "Example of hstack()"
      ],
      "metadata": {
        "id": "patx7INN9ucv"
      }
    },
    {
      "cell_type": "code",
      "source": [
        "import numpy as np\n",
        "\n",
        "# Create two 2D arrays\n",
        "array1 = np.array([[1, 2], [3, 4]])\n",
        "array2 = np.array([[5], [6]])\n",
        "\n",
        "# Stack arrays horizontally\n",
        "result_hstack = np.hstack((array1, array2))\n",
        "\n",
        "print(\"Result of hstack:\")\n",
        "print(result_hstack)\n"
      ],
      "metadata": {
        "colab": {
          "base_uri": "https://localhost:8080/"
        },
        "id": "lgDaOkNS92-2",
        "outputId": "a244606b-ba66-4bf0-c1c4-49012a2ad8d6"
      },
      "execution_count": 7,
      "outputs": [
        {
          "output_type": "stream",
          "name": "stdout",
          "text": [
            "Result of hstack:\n",
            "[[1 2 5]\n",
            " [3 4 6]]\n"
          ]
        }
      ]
    },
    {
      "cell_type": "markdown",
      "source": [
        "**Summary**\n",
        "\n",
        "* vstack() combines arrays by stacking them on top of each other (increasing the number of rows).\n",
        "\n",
        "* hstack() combines arrays by placing them side by side (increasing the number of columns).\n",
        "\n",
        "Both functions are useful for manipulating array dimensions based on the desired structure of the resulting array.\n",
        "\n",
        "\n",
        "\n"
      ],
      "metadata": {
        "id": "INLxT6Sc97U5"
      }
    },
    {
      "cell_type": "code",
      "source": [],
      "metadata": {
        "id": "10wF3DhW-FEl"
      },
      "execution_count": null,
      "outputs": []
    },
    {
      "cell_type": "code",
      "source": [],
      "metadata": {
        "id": "XJqrkw3K-J76"
      },
      "execution_count": null,
      "outputs": []
    },
    {
      "cell_type": "code",
      "source": [],
      "metadata": {
        "id": "iEZ3Ny55-J4W"
      },
      "execution_count": null,
      "outputs": []
    },
    {
      "cell_type": "code",
      "source": [
        "#8. Explain the differences between fliplr() and flipud() methods in NumPy, including their effects on various\n",
        "array dimensions."
      ],
      "metadata": {
        "id": "gKYvJpdb-J0z"
      },
      "execution_count": null,
      "outputs": []
    },
    {
      "cell_type": "markdown",
      "source": [
        "In NumPy, the fliplr() and flipud() functions are used to flip arrays in different orientations. Here’s a detailed explanation of their differences and their effects on various array dimensions:\n",
        "\n",
        "**fliplr()**\n",
        "\n",
        "* Function: Flips an array left to right (horizontally).\n",
        "* Usage: This function is specifically designed for 2D arrays, reversing the order of columns.\n",
        "\n",
        "Example of fliplr()\n"
      ],
      "metadata": {
        "id": "gwOERO-f-QYU"
      }
    },
    {
      "cell_type": "code",
      "source": [
        "import numpy as np\n",
        "\n",
        "# Create a 2D array\n",
        "array_2d = np.array([[1, 2, 3],\n",
        "                     [4, 5, 6]])\n",
        "\n",
        "# Flip the array left to right\n",
        "flipped_lr = np.fliplr(array_2d)\n",
        "\n",
        "print(\"Original Array:\")\n",
        "print(array_2d)\n",
        "print(\"\\nFlipped Left to Right:\")\n",
        "print(flipped_lr)\n"
      ],
      "metadata": {
        "colab": {
          "base_uri": "https://localhost:8080/"
        },
        "id": "dDHhi6jh_KhA",
        "outputId": "74007671-b6bf-4125-b878-5e4cbaee6f2e"
      },
      "execution_count": 8,
      "outputs": [
        {
          "output_type": "stream",
          "name": "stdout",
          "text": [
            "Original Array:\n",
            "[[1 2 3]\n",
            " [4 5 6]]\n",
            "\n",
            "Flipped Left to Right:\n",
            "[[3 2 1]\n",
            " [6 5 4]]\n"
          ]
        }
      ]
    },
    {
      "cell_type": "code",
      "source": [],
      "metadata": {
        "id": "su-jhTV0_Lk3"
      },
      "execution_count": null,
      "outputs": []
    },
    {
      "cell_type": "markdown",
      "source": [
        "**flipud()**\n",
        "\n",
        "* Function: Flips an array up to down (vertically).\n",
        "* Usage: This function can be applied to both 1D and 2D arrays, reversing the order of rows.\n",
        "\n",
        "Example of flipud()\n"
      ],
      "metadata": {
        "id": "OAf6AYq5_QwJ"
      }
    },
    {
      "cell_type": "markdown",
      "source": [
        "**Effects on Various Array Dimensions**\n",
        "\n",
        "* 2D Arrays:\n",
        "\n",
        "    * fliplr(): Reverses the order of columns. For example, if you have a matrix, it will reflect the matrix along the vertical axis.\n",
        "\n",
        "    * flipud(): Reverses the order of rows. It reflects the matrix along the horizontal axis.\n",
        "\n",
        "* 1D Arrays:\n",
        "\n",
        "    * Both fliplr() and flipud() behave similarly for 1D arrays since there are no distinct rows and columns. They will simply reverse the order of the elements.\n",
        "    \n",
        "Example of 1D Array\n"
      ],
      "metadata": {
        "id": "zwUZZlpr_iCd"
      }
    },
    {
      "cell_type": "code",
      "source": [
        "# Create a 1D array\n",
        "array_1d = np.array([1, 2, 3, 4, 5])\n",
        "\n",
        "# Flip left to right (same effect as up to down)\n",
        "flipped_lr_1d = np.fliplr(array_1d.reshape(1, -1)).flatten()  # Reshaping to 2D for fliplr\n",
        "flipped_ud_1d = np.flipud(array_1d)\n",
        "\n",
        "print(\"\\nOriginal 1D Array:\")\n",
        "print(array_1d)\n",
        "print(\"\\nFlipped Left to Right (1D):\")\n",
        "print(flipped_lr_1d)\n",
        "print(\"\\nFlipped Up to Down (1D):\")\n",
        "print(flipped_ud_1d)\n"
      ],
      "metadata": {
        "colab": {
          "base_uri": "https://localhost:8080/"
        },
        "id": "l6q1Tcwr_7k5",
        "outputId": "6f503971-7c5c-41dd-a893-c62e8ebfe12e"
      },
      "execution_count": 9,
      "outputs": [
        {
          "output_type": "stream",
          "name": "stdout",
          "text": [
            "\n",
            "Original 1D Array:\n",
            "[1 2 3 4 5]\n",
            "\n",
            "Flipped Left to Right (1D):\n",
            "[5 4 3 2 1]\n",
            "\n",
            "Flipped Up to Down (1D):\n",
            "[5 4 3 2 1]\n"
          ]
        }
      ]
    },
    {
      "cell_type": "code",
      "source": [],
      "metadata": {
        "id": "Pymg4-kV_8VC"
      },
      "execution_count": null,
      "outputs": []
    },
    {
      "cell_type": "markdown",
      "source": [
        "**Summary**\n",
        "\n",
        "* fliplr(): Flips arrays horizontally (left to right). Primarily used for 2D arrays but can be applied to 1D arrays by reshaping.\n",
        "\n",
        "* flipud(): Flips arrays vertically (up to down). Can be applied to both 1D and 2D arrays.\n",
        "\n",
        "Understanding these functions is essential for effectively manipulating array data in different orientations in NumPy"
      ],
      "metadata": {
        "id": "Dfj-bQ5YAElT"
      }
    },
    {
      "cell_type": "code",
      "source": [],
      "metadata": {
        "id": "rrLaEtteATda"
      },
      "execution_count": null,
      "outputs": []
    },
    {
      "cell_type": "code",
      "source": [],
      "metadata": {
        "id": "OD7lyVUqAUeX"
      },
      "execution_count": null,
      "outputs": []
    },
    {
      "cell_type": "code",
      "source": [
        "#9. Discuss the functionality of the array_split() method in NumPy. How does it handle uneven splits?"
      ],
      "metadata": {
        "id": "c60gWwsvAUIb"
      },
      "execution_count": null,
      "outputs": []
    },
    {
      "cell_type": "markdown",
      "source": [
        "The array_split() method in NumPy is used to split an array into multiple sub-arrays along a specified axis. This method is particularly useful when I want to divide a dataset into smaller chunks for processing or analysis.\n",
        "\n",
        "Functionality\n",
        "The basic syntax of array_split() is:\n",
        "\n"
      ],
      "metadata": {
        "id": "ZwI6PjaLCisU"
      }
    },
    {
      "cell_type": "code",
      "source": [
        "numpy.array_split(ary, indices_or_sections, axis=0)\n"
      ],
      "metadata": {
        "id": "OXpKmm6lDNce"
      },
      "execution_count": null,
      "outputs": []
    },
    {
      "cell_type": "markdown",
      "source": [
        "* ary: The input array you want to split.\n",
        "* indices_or_sections: This can either be an integer (number of sections to create) or a 1D array of indices indicating where to split the array.\n",
        "\n",
        "* axis: The axis along which to split the array. By default, this is set to 0 (the first axis).\n",
        "\n",
        "**Handling Uneven Splits**\n",
        "\n",
        "When using array_split(), if the array cannot be evenly divided by the number of sections specified, it will handle the remaining elements gracefully. Specifically:\n",
        "\n",
        "1.**Uneven Splitting**: If the total number of elements is not divisible by the number of sections, some sub-arrays will contain more elements than others. NumPy ensures that the first few sub-arrays will have one more element than the others until all elements are accounted for.\n",
        "\n",
        "2.Example\n"
      ],
      "metadata": {
        "id": "OqX2KC_4DP4s"
      }
    },
    {
      "cell_type": "code",
      "source": [
        "import numpy as np\n",
        "\n",
        "arr = np.array([1, 2, 3, 4, 5, 6])\n",
        "result = np.array_split(arr, 4)\n",
        "print(result)\n"
      ],
      "metadata": {
        "colab": {
          "base_uri": "https://localhost:8080/"
        },
        "id": "Vc86c5F3EAA8",
        "outputId": "6ba2f7b4-9fa0-49b2-e27f-690cd29a31f8"
      },
      "execution_count": 13,
      "outputs": [
        {
          "output_type": "stream",
          "name": "stdout",
          "text": [
            "[array([1, 2]), array([3, 4]), array([5]), array([6])]\n"
          ]
        }
      ]
    },
    {
      "cell_type": "markdown",
      "source": [
        "Here, the first two sub-arrays have 2 elements each, while the last two sub-arrays have 1 element each, reflecting how the array was split unevenly.\n",
        "\n",
        "**Conclusion**\n",
        "\n",
        "The array_split() method is flexible and efficient for handling cases where the array cannot be evenly divided, making it a valuable tool in data manipulation and analysis within NumPy.\n",
        "\n",
        "\n",
        "\n"
      ],
      "metadata": {
        "id": "T2L6izq1EJvG"
      }
    },
    {
      "cell_type": "code",
      "source": [],
      "metadata": {
        "id": "2nWz07I8ER-7"
      },
      "execution_count": null,
      "outputs": []
    },
    {
      "cell_type": "code",
      "source": [],
      "metadata": {
        "id": "h9S_O2bZESiO"
      },
      "execution_count": null,
      "outputs": []
    },
    {
      "cell_type": "code",
      "source": [
        "#10. Explain the concepts of vectorization and broadcasting in NumPy. How do they contribute to efficient array\n",
        "operations?"
      ],
      "metadata": {
        "id": "ub7jS-EVESdJ"
      },
      "execution_count": null,
      "outputs": []
    },
    {
      "cell_type": "markdown",
      "source": [
        "Vectorization and broadcasting are two powerful concepts in NumPy that enhance the efficiency of array operations and enable more intuitive coding. Here’s a breakdown of each concept:\n",
        "\n",
        "**Vectorization**\n",
        "\n",
        "Vectorization refers to the process of replacing explicit loops with array operations. In NumPy, operations are applied to entire arrays or large chunks of data at once, rather than iterating through individual elements. This is achieved by using optimized, low-level implementations in C and Fortran, which significantly speeds up computations.\n",
        "\n",
        "**Benefits of Vectorization:**\n",
        "\n",
        "* Performance: Vectorized operations are typically much faster than their loop-based counterparts because they reduce the overhead of Python's loop constructs.\n",
        "\n",
        "* Conciseness: Code becomes more readable and concise, as vectorized operations can often replace several lines of code with a single expression.\n",
        "\n",
        "Example:\n",
        "Instead of using a loop to add two arrays element-wise"
      ],
      "metadata": {
        "id": "sJuC68vJF9R1"
      }
    },
    {
      "cell_type": "code",
      "source": [
        "import numpy as np\n",
        "\n",
        "a = np.array([1, 2, 3])\n",
        "b = np.array([4, 5, 6])\n",
        "result = np.empty_like(a)\n",
        "\n",
        "for i in range(len(a)):\n",
        "    result[i] = a[i] + b[i]\n",
        "resul = a + b #I can simply use"
      ],
      "metadata": {
        "id": "1io_Bwy6GOna"
      },
      "execution_count": 15,
      "outputs": []
    },
    {
      "cell_type": "code",
      "source": [
        "result"
      ],
      "metadata": {
        "colab": {
          "base_uri": "https://localhost:8080/"
        },
        "id": "N5ulJcdzGdpE",
        "outputId": "1df3f756-a7d9-4eaa-f4f0-ea89d52cff21"
      },
      "execution_count": 18,
      "outputs": [
        {
          "output_type": "execute_result",
          "data": {
            "text/plain": [
              "array([[11, 22, 33],\n",
              "       [14, 25, 36]])"
            ]
          },
          "metadata": {},
          "execution_count": 18
        }
      ]
    },
    {
      "cell_type": "markdown",
      "source": [
        "**Broadcasting**\n",
        "\n",
        "Broadcasting is a technique that allows NumPy to perform arithmetic operations on arrays of different shapes. Instead of requiring the arrays to be of the same size, broadcasting automatically expands the smaller array across the larger array's dimensions in a compatible way.\n",
        "\n",
        "**Rules of Broadcasting:**\n",
        "\n",
        "* If the arrays have a different number of dimensions, the shape of the smaller array is padded with ones on the left side until both shapes match.\n",
        "\n",
        "* The sizes of each dimension are compared. Two dimensions are compatible when:\n",
        "     * They are equal, or\n",
        "     *One of them is 1 (in which case it can be stretched to match the other dimension).\n",
        "\n",
        "Example:\n",
        "If you want to add a 1D array to a 2D array, NumPy will broadcast the 1D array across the rows of the 2D array:"
      ],
      "metadata": {
        "id": "YGOIMU7SGhZC"
      }
    },
    {
      "cell_type": "code",
      "source": [
        "import numpy as np\n",
        "\n",
        "a = np.array([[1, 2, 3],\n",
        "              [4, 5, 6]])\n",
        "b = np.array([10, 20, 30])\n",
        "\n",
        "result = a + b  # Broadcasting occurs here\n"
      ],
      "metadata": {
        "id": "_R3i_yp8HM3K"
      },
      "execution_count": 16,
      "outputs": []
    },
    {
      "cell_type": "code",
      "source": [
        "result"
      ],
      "metadata": {
        "colab": {
          "base_uri": "https://localhost:8080/"
        },
        "id": "txA2EYlWHRJB",
        "outputId": "9b98bdba-558d-4dd0-f704-a76f71343a07"
      },
      "execution_count": 17,
      "outputs": [
        {
          "output_type": "execute_result",
          "data": {
            "text/plain": [
              "array([[11, 22, 33],\n",
              "       [14, 25, 36]])"
            ]
          },
          "metadata": {},
          "execution_count": 17
        }
      ]
    },
    {
      "cell_type": "markdown",
      "source": [
        "**Contribution to Efficient Array Operations**\n",
        "\n",
        "* Reduction of Complexity: Both vectorization and broadcasting allow I to write simpler code that abstracts away the details of iteration and shape manipulation, making the code easier to read and maintain.\n",
        "\n",
        "* Performance Gains: These techniques leverage NumPy's underlying optimizations, leading to substantial performance improvements for array operations, especially on large datasets.\n",
        "\n",
        "* Memory Efficiency: Broadcasting avoids the need to create large temporary arrays, as it works by virtually expanding the smaller array without allocating extra memory.\n",
        "\n",
        "In summary,  \n",
        "           vectorization and broadcasting are fundamental to NumPy’s design, allowing for efficient, concise, and high-performance array operations that are essential for scientific computing and data analysis"
      ],
      "metadata": {
        "id": "T8hnJYzEHe3r"
      }
    },
    {
      "cell_type": "code",
      "source": [],
      "metadata": {
        "id": "LvnDXENEHSRX"
      },
      "execution_count": null,
      "outputs": []
    },
    {
      "cell_type": "code",
      "source": [],
      "metadata": {
        "id": "W0M9mtCjH2m-"
      },
      "execution_count": null,
      "outputs": []
    },
    {
      "cell_type": "code",
      "source": [],
      "metadata": {
        "id": "hGb6WDV2H77H"
      },
      "execution_count": null,
      "outputs": []
    },
    {
      "cell_type": "code",
      "source": [],
      "metadata": {
        "id": "UiHwIg4bH7v_"
      },
      "execution_count": null,
      "outputs": []
    },
    {
      "cell_type": "code",
      "source": [],
      "metadata": {
        "id": "L-KfMNgvH7rg"
      },
      "execution_count": null,
      "outputs": []
    },
    {
      "cell_type": "markdown",
      "source": [
        "#**Practical Questions:**"
      ],
      "metadata": {
        "id": "x3oY5EgMIA7U"
      }
    },
    {
      "cell_type": "code",
      "source": [
        "#1.Create a 3x3 NumPy array with random integers between 1 and 100. Then, interchange its rows and columns."
      ],
      "metadata": {
        "id": "aAhX5FoJIITm"
      },
      "execution_count": null,
      "outputs": []
    },
    {
      "cell_type": "markdown",
      "source": [
        "I can create a 3x3 NumPy array with random integers between 1 and 100 using the numpy.random.randint function. To interchange the rows and columns (transpose the array), I can use the .T attribute or the numpy.transpose function. Here's how I can do it:\n"
      ],
      "metadata": {
        "id": "TAQ61qX_JBVW"
      }
    },
    {
      "cell_type": "code",
      "source": [
        "import numpy as np\n",
        "\n",
        "# Create a 3x3 array with random integers between 1 and 100\n",
        "array = np.random.randint(1, 101, size=(3, 3))\n",
        "\n",
        "# Print the original array\n",
        "print(\"Original array:\")\n",
        "print(array)\n",
        "\n",
        "# Interchange rows and columns (transpose the array)\n",
        "transposed_array = array.T\n",
        "\n",
        "# Print the transposed array\n",
        "print(\"\\nTransposed array:\")\n",
        "print(transposed_array)\n"
      ],
      "metadata": {
        "colab": {
          "base_uri": "https://localhost:8080/"
        },
        "id": "jSEmrM8PJIkp",
        "outputId": "a630ac60-025a-4b36-cea4-079dc3a7202a"
      },
      "execution_count": 19,
      "outputs": [
        {
          "output_type": "stream",
          "name": "stdout",
          "text": [
            "Original array:\n",
            "[[22 49 77]\n",
            " [95 88  9]\n",
            " [83 74 80]]\n",
            "\n",
            "Transposed array:\n",
            "[[22 95 83]\n",
            " [49 88 74]\n",
            " [77  9 80]]\n"
          ]
        }
      ]
    },
    {
      "cell_type": "markdown",
      "source": [
        "**Explanation:**\n",
        "\n",
        "* np.random.randint(1, 101, size=(3, 3)) generates a 3x3 array with random integers from 1 to 100.\n",
        "* The .T attribute or np.transpose(array) is used to swap the rows and columns of the array.\n",
        "\n",
        "When I run this code, you'll see the original array and its transposed version printed out.\n",
        "\n",
        "\n",
        "\n",
        "\n"
      ],
      "metadata": {
        "id": "Gy5u2_oeJN6A"
      }
    },
    {
      "cell_type": "code",
      "source": [],
      "metadata": {
        "id": "CEzq8dGiJY0l"
      },
      "execution_count": null,
      "outputs": []
    },
    {
      "cell_type": "code",
      "source": [
        "#2. Generate a 1D NumPy array with 10 elements. Reshape it into a 2x5 array, then into a 5x2 array."
      ],
      "metadata": {
        "id": "qIja1cakJZYB"
      },
      "execution_count": null,
      "outputs": []
    },
    {
      "cell_type": "markdown",
      "source": [
        "I can create a 1D NumPy array with 10 elements and reshape it into a 2x5 array and then into a 5x2 array using the numpy.reshape() method. Here’s how to do it:\n",
        "\n"
      ],
      "metadata": {
        "id": "Q_n5MYyFJuBA"
      }
    },
    {
      "cell_type": "code",
      "source": [
        "import numpy as np\n",
        "\n",
        "# Generate a 1D NumPy array with 10 elements\n",
        "array_1d = np.arange(10)  # This creates an array with values from 0 to 9\n",
        "\n",
        "# Print the original 1D array\n",
        "print(\"Original 1D array:\")\n",
        "print(array_1d)\n",
        "\n",
        "# Reshape it into a 2x5 array\n",
        "array_2x5 = array_1d.reshape(2, 5)\n",
        "\n",
        "# Print the 2x5 array\n",
        "print(\"\\nReshaped to 2x5 array:\")\n",
        "print(array_2x5)\n",
        "\n",
        "# Reshape it into a 5x2 array\n",
        "array_5x2 = array_1d.reshape(5, 2)\n",
        "\n",
        "# Print the 5x2 array\n",
        "print(\"\\nReshaped to 5x2 array:\")\n",
        "print(array_5x2)\n"
      ],
      "metadata": {
        "colab": {
          "base_uri": "https://localhost:8080/"
        },
        "id": "iTkijJy_JyeM",
        "outputId": "5157cc67-2938-40b4-c4a1-ee5411f79093"
      },
      "execution_count": 20,
      "outputs": [
        {
          "output_type": "stream",
          "name": "stdout",
          "text": [
            "Original 1D array:\n",
            "[0 1 2 3 4 5 6 7 8 9]\n",
            "\n",
            "Reshaped to 2x5 array:\n",
            "[[0 1 2 3 4]\n",
            " [5 6 7 8 9]]\n",
            "\n",
            "Reshaped to 5x2 array:\n",
            "[[0 1]\n",
            " [2 3]\n",
            " [4 5]\n",
            " [6 7]\n",
            " [8 9]]\n"
          ]
        }
      ]
    },
    {
      "cell_type": "markdown",
      "source": [
        "**Explanation:**\n",
        "\n",
        "* np.arange(10) creates a 1D array with values from 0 to 9.\n",
        "* reshape(2, 5) changes the shape of the array to 2 rows and 5 columns.\n",
        "* reshape(5, 2) changes the shape to 5 rows and 2 columns.\n",
        "\n",
        "When I run this code, it will display the original array, the reshaped 2x5 array, and the reshaped 5x2 array."
      ],
      "metadata": {
        "id": "Ue208ts8J3sc"
      }
    },
    {
      "cell_type": "code",
      "source": [
        "#3. Create a 4x4 NumPy array with random float values. Add a border of zeros around it, resulting in a 6x6 array."
      ],
      "metadata": {
        "id": "jp4cjOrmKAkE"
      },
      "execution_count": null,
      "outputs": []
    },
    {
      "cell_type": "markdown",
      "source": [
        "I can create a 4x4 NumPy array with random float values and then add a border of zeros around it using the numpy.pad function. Here’s how to do it"
      ],
      "metadata": {
        "id": "5oozCtvcKKAR"
      }
    },
    {
      "cell_type": "code",
      "source": [
        "import numpy as np\n",
        "\n",
        "# Create a 4x4 array with random float values\n",
        "array_4x4 = np.random.rand(4, 4)\n",
        "\n",
        "# Print the original 4x4 array\n",
        "print(\"Original 4x4 array:\")\n",
        "print(array_4x4)\n",
        "\n",
        "# Add a border of zeros around the array\n",
        "array_with_border = np.pad(array_4x4, pad_width=1, mode='constant', constant_values=0)\n",
        "\n",
        "# Print the resulting 6x6 array\n",
        "print(\"\\n6x6 array with a border of zeros:\")\n",
        "print(array_with_border)\n"
      ],
      "metadata": {
        "colab": {
          "base_uri": "https://localhost:8080/"
        },
        "id": "G2FHU6WuKNd-",
        "outputId": "9a0fdddd-4108-44c2-bd0f-fcb423e7c76a"
      },
      "execution_count": 21,
      "outputs": [
        {
          "output_type": "stream",
          "name": "stdout",
          "text": [
            "Original 4x4 array:\n",
            "[[0.71188426 0.8559351  0.34866424 0.4736006 ]\n",
            " [0.29194694 0.23420815 0.33844987 0.89101027]\n",
            " [0.5203068  0.93988133 0.73356434 0.15957748]\n",
            " [0.14660639 0.58438533 0.09937709 0.60217103]]\n",
            "\n",
            "6x6 array with a border of zeros:\n",
            "[[0.         0.         0.         0.         0.         0.        ]\n",
            " [0.         0.71188426 0.8559351  0.34866424 0.4736006  0.        ]\n",
            " [0.         0.29194694 0.23420815 0.33844987 0.89101027 0.        ]\n",
            " [0.         0.5203068  0.93988133 0.73356434 0.15957748 0.        ]\n",
            " [0.         0.14660639 0.58438533 0.09937709 0.60217103 0.        ]\n",
            " [0.         0.         0.         0.         0.         0.        ]]\n"
          ]
        }
      ]
    },
    {
      "cell_type": "markdown",
      "source": [
        "**Explanation:**\n",
        "\n",
        "* np.random.rand(4, 4) generates a 4x4 array with random float values between 0 and 1.\n",
        "\n",
        "* np.pad(array_4x4, pad_width=1, mode='constant', constant_values=0) adds a border of zeros around the original array. The pad_width=1 specifies a border of one row/column of zeros on each side.\n",
        "\n",
        "When I run this code, I'll see the original 4x4 array and the resulting 6x6 array with a border of zeros.\n",
        "\n",
        "\n",
        "\n"
      ],
      "metadata": {
        "id": "MzQML3C6KSho"
      }
    },
    {
      "cell_type": "code",
      "source": [
        "#4. Using NumPy, create an array of integers from 10 to 60 with a step of 5."
      ],
      "metadata": {
        "id": "9YRf3R3MKjL5"
      },
      "execution_count": null,
      "outputs": []
    },
    {
      "cell_type": "markdown",
      "source": [
        "I can create an array of integers from 10 to 60 with a step of 5 using the numpy.arange() function. Here’s how you can do it:\n",
        "\n"
      ],
      "metadata": {
        "id": "rQSfKa2KK48c"
      }
    },
    {
      "cell_type": "code",
      "source": [
        "import numpy as np\n",
        "\n",
        "# Create an array of integers from 10 to 60 with a step of 5\n",
        "array = np.arange(10, 61, 5)\n",
        "\n",
        "# Print the resulting array\n",
        "print(array)\n"
      ],
      "metadata": {
        "colab": {
          "base_uri": "https://localhost:8080/"
        },
        "id": "5jDJIHK-K7As",
        "outputId": "9d9925b0-5daa-4364-b26c-67b396e608d7"
      },
      "execution_count": 22,
      "outputs": [
        {
          "output_type": "stream",
          "name": "stdout",
          "text": [
            "[10 15 20 25 30 35 40 45 50 55 60]\n"
          ]
        }
      ]
    },
    {
      "cell_type": "markdown",
      "source": [
        "**Explanation:**\n",
        "\n",
        "* np.arange(10, 61, 5) generates an array starting at 10, ending before 61, with a step of 5.\n",
        "\n",
        "When I run this code, the output will be:\n",
        "\n"
      ],
      "metadata": {
        "id": "Jqwoik0eLA6w"
      }
    },
    {
      "cell_type": "code",
      "source": [
        "#5. Create a NumPy array of strings ['python', 'numpy', 'pandas']. Apply different case transformations\n",
        "(uppercase, lowercase, title case, etc.) to each element."
      ],
      "metadata": {
        "id": "lGCLJs1hLLaQ"
      },
      "execution_count": null,
      "outputs": []
    },
    {
      "cell_type": "markdown",
      "source": [
        "I can create a NumPy array of strings and then apply different case transformations to each element using string methods. Here’s how you can do it:\n",
        "\n"
      ],
      "metadata": {
        "id": "6zCfUPgUM6fu"
      }
    },
    {
      "cell_type": "code",
      "source": [
        "import numpy as np\n",
        "\n",
        "# Create a NumPy array of strings\n",
        "array = np.array(['python', 'numpy', 'pandas'])\n",
        "\n",
        "# Apply different case transformations\n",
        "uppercase_array = np.char.upper(array)    # Uppercase\n",
        "lowercase_array = np.char.lower(array)    # Lowercase\n",
        "titlecase_array = np.char.title(array)     # Title case\n",
        "capitalize_array = np.char.capitalize(array)  # Capitalize\n",
        "\n",
        "# Print the original and transformed arrays\n",
        "print(\"Original array:\")\n",
        "print(array)\n",
        "\n",
        "print(\"\\nUppercase array:\")\n",
        "print(uppercase_array)\n",
        "\n",
        "print(\"\\nLowercase array:\")\n",
        "print(lowercase_array)\n",
        "\n",
        "print(\"\\nTitle case array:\")\n",
        "print(titlecase_array)\n",
        "\n",
        "print(\"\\nCapitalized array:\")\n",
        "print(capitalize_array)\n"
      ],
      "metadata": {
        "colab": {
          "base_uri": "https://localhost:8080/"
        },
        "id": "Jmc5CAhDNCQ_",
        "outputId": "d42c545a-0aff-4530-f84a-f14b0ffc20d9"
      },
      "execution_count": 23,
      "outputs": [
        {
          "output_type": "stream",
          "name": "stdout",
          "text": [
            "Original array:\n",
            "['python' 'numpy' 'pandas']\n",
            "\n",
            "Uppercase array:\n",
            "['PYTHON' 'NUMPY' 'PANDAS']\n",
            "\n",
            "Lowercase array:\n",
            "['python' 'numpy' 'pandas']\n",
            "\n",
            "Title case array:\n",
            "['Python' 'Numpy' 'Pandas']\n",
            "\n",
            "Capitalized array:\n",
            "['Python' 'Numpy' 'Pandas']\n"
          ]
        }
      ]
    },
    {
      "cell_type": "markdown",
      "source": [
        "**Explanation:**\n",
        "\n",
        "* np.char.upper(array) converts each string to uppercase.\n",
        "* np.char.lower(array) converts each string to lowercase.\n",
        "* np.char.title(array) converts each string to title case (first letter of each word capitalized).\n",
        "* np.char.capitalize(array) capitalizes only the first letter of each string.\n",
        "\n",
        "When I run this code, I'll see the original array along with the arrays transformed to different cases.\n",
        "\n",
        "\n",
        "\n"
      ],
      "metadata": {
        "id": "k53Q5btlNOXe"
      }
    },
    {
      "cell_type": "code",
      "source": [
        "#6. Generate a NumPy array of words. Insert a space between each character of every word in the array."
      ],
      "metadata": {
        "id": "wIc7xNyLNmOh"
      },
      "execution_count": null,
      "outputs": []
    },
    {
      "cell_type": "markdown",
      "source": [
        "I can create a NumPy array of words and then format each word to have spaces between each character using the following code:\n",
        "\n"
      ],
      "metadata": {
        "id": "Mpz69aeoODZu"
      }
    },
    {
      "cell_type": "code",
      "source": [
        "\n",
        "import numpy as np\n",
        "\n",
        "# Create a NumPy array of words\n",
        "words = np.array(['hello', 'world', 'numpy', 'array'])\n",
        "\n",
        "# Insert a space between each character of every word\n",
        "spaced_words = np.array([' '.join(word) for word in words])\n",
        "\n",
        "print(spaced_words)\n"
      ],
      "metadata": {
        "colab": {
          "base_uri": "https://localhost:8080/"
        },
        "id": "kwSDCoPwOI1K",
        "outputId": "c2c790d1-59bf-4bd7-f127-a8d253f00c8a"
      },
      "execution_count": 24,
      "outputs": [
        {
          "output_type": "stream",
          "name": "stdout",
          "text": [
            "['h e l l o' 'w o r l d' 'n u m p y' 'a r r a y']\n"
          ]
        }
      ]
    },
    {
      "cell_type": "markdown",
      "source": [
        "Each word now has spaces between its characters!\n",
        "\n",
        "\n",
        "\n"
      ],
      "metadata": {
        "id": "lA6YvXQJOPDV"
      }
    },
    {
      "cell_type": "code",
      "source": [
        "#7. Create two 2D NumPy arrays and perform element-wise addition, subtraction, multiplication, and division."
      ],
      "metadata": {
        "id": "aBHShjMXORC7"
      },
      "execution_count": null,
      "outputs": []
    },
    {
      "cell_type": "markdown",
      "source": [
        "Here's how I can create two 2D NumPy arrays and perform element-wise addition, subtraction, multiplication, and division"
      ],
      "metadata": {
        "id": "Zp1SFVnKOfUw"
      }
    },
    {
      "cell_type": "code",
      "source": [
        "import numpy as np\n",
        "\n",
        "# Create two 2D NumPy arrays\n",
        "array1 = np.array([[1, 2, 3], [4, 5, 6]])\n",
        "array2 = np.array([[7, 8, 9], [10, 11, 12]])\n",
        "\n",
        "# Element-wise addition\n",
        "addition = array1 + array2\n",
        "\n",
        "# Element-wise subtraction\n",
        "subtraction = array1 - array2\n",
        "\n",
        "# Element-wise multiplication\n",
        "multiplication = array1 * array2\n",
        "\n",
        "# Element-wise division\n",
        "division = array1 / array2\n",
        "\n",
        "# Print the results\n",
        "print(\"Addition:\\n\", addition)\n",
        "print(\"Subtraction:\\n\", subtraction)\n",
        "print(\"Multiplication:\\n\", multiplication)\n",
        "print(\"Division:\\n\", division)\n"
      ],
      "metadata": {
        "colab": {
          "base_uri": "https://localhost:8080/"
        },
        "id": "CB8z936fOjM6",
        "outputId": "e84fa8d0-e166-43e1-a728-a3955f7da775"
      },
      "execution_count": 25,
      "outputs": [
        {
          "output_type": "stream",
          "name": "stdout",
          "text": [
            "Addition:\n",
            " [[ 8 10 12]\n",
            " [14 16 18]]\n",
            "Subtraction:\n",
            " [[-6 -6 -6]\n",
            " [-6 -6 -6]]\n",
            "Multiplication:\n",
            " [[ 7 16 27]\n",
            " [40 55 72]]\n",
            "Division:\n",
            " [[0.14285714 0.25       0.33333333]\n",
            " [0.4        0.45454545 0.5       ]]\n"
          ]
        }
      ]
    },
    {
      "cell_type": "markdown",
      "source": [
        "This code demonstrates how to perform the four basic arithmetic operations on 2D NumPy arrays.\n",
        "\n",
        "\n",
        "\n"
      ],
      "metadata": {
        "id": "c_gwknr8OqL8"
      }
    },
    {
      "cell_type": "code",
      "source": [
        "#8. Use NumPy to create a 5x5 identity matrix, then extract its diagonal elements."
      ],
      "metadata": {
        "id": "8jrrjpwJOrgy"
      },
      "execution_count": null,
      "outputs": []
    },
    {
      "cell_type": "markdown",
      "source": [
        "I can create a 5x5 identity matrix using NumPy and then extract its diagonal elements as follows:\n",
        "\n"
      ],
      "metadata": {
        "id": "lT1Msr2XO0FS"
      }
    },
    {
      "cell_type": "code",
      "source": [
        "import numpy as np\n",
        "\n",
        "# Create a 5x5 identity matrix\n",
        "identity_matrix = np.eye(5)\n",
        "\n",
        "# Extract the diagonal elements\n",
        "diagonal_elements = np.diag(identity_matrix)\n",
        "\n",
        "# Print the results\n",
        "print(\"Identity Matrix:\\n\", identity_matrix)\n",
        "print(\"Diagonal Elements:\", diagonal_elements)\n"
      ],
      "metadata": {
        "colab": {
          "base_uri": "https://localhost:8080/"
        },
        "id": "qgG3uKTbO4Jq",
        "outputId": "5d02d4da-02b8-47cd-9884-7871b5ac45e3"
      },
      "execution_count": 26,
      "outputs": [
        {
          "output_type": "stream",
          "name": "stdout",
          "text": [
            "Identity Matrix:\n",
            " [[1. 0. 0. 0. 0.]\n",
            " [0. 1. 0. 0. 0.]\n",
            " [0. 0. 1. 0. 0.]\n",
            " [0. 0. 0. 1. 0.]\n",
            " [0. 0. 0. 0. 1.]]\n",
            "Diagonal Elements: [1. 1. 1. 1. 1.]\n"
          ]
        }
      ]
    },
    {
      "cell_type": "markdown",
      "source": [
        "This code creates a 5x5 identity matrix and extracts the diagonal elements, which will all be 1.\n",
        "\n",
        "\n",
        "\n"
      ],
      "metadata": {
        "id": "OvAfYk-XPWxr"
      }
    },
    {
      "cell_type": "code",
      "source": [
        "#9. Generate a NumPy array of 100 random integers between 0 and 1000. Find and display all prime numbers in\n",
        "this array."
      ],
      "metadata": {
        "id": "d48hEiXPPacw"
      },
      "execution_count": null,
      "outputs": []
    },
    {
      "cell_type": "markdown",
      "source": [
        "I can generate a NumPy array of 100 random integers between 0 and 1000, and then find and display the prime numbers in that array using the following code:\n",
        "\n"
      ],
      "metadata": {
        "id": "eNdg82p7Piog"
      }
    },
    {
      "cell_type": "code",
      "source": [
        "import numpy as np\n",
        "\n",
        "# Generate an array of 100 random integers between 0 and 1000\n",
        "random_integers = np.random.randint(0, 1001, size=100)\n",
        "\n",
        "# Function to check for prime numbers\n",
        "def is_prime(n):\n",
        "    if n < 2:\n",
        "        return False\n",
        "    for i in range(2, int(n**0.5) + 1):\n",
        "        if n % i == 0:\n",
        "            return False\n",
        "    return True\n",
        "\n",
        "# Find all prime numbers in the array\n",
        "prime_numbers = np.array([num for num in random_integers if is_prime(num)])\n",
        "\n",
        "# Print the results\n",
        "print(\"Random Integers:\\n\", random_integers)\n",
        "print(\"Prime Numbers:\\n\", prime_numbers)\n"
      ],
      "metadata": {
        "colab": {
          "base_uri": "https://localhost:8080/"
        },
        "id": "kXvrDkXjPwIr",
        "outputId": "d898e3c3-944f-4f22-9a1a-fc7dfd6d0df7"
      },
      "execution_count": 27,
      "outputs": [
        {
          "output_type": "stream",
          "name": "stdout",
          "text": [
            "Random Integers:\n",
            " [618 200 575 534 713 602 872  20 128 217 312  62 854 266 278 750 948 202\n",
            " 268 596 368 381 530 528  68 105 277 860 733 789 106 382 899 662 396 503\n",
            " 669 388 533 510 547 851  83 121 956 575  69  79 365 554 446 250 968 239\n",
            " 802 587 219 271 531 829 533 651 820 125 544 333  17 959 747 684 952 112\n",
            "   1 335 438 446 269 448 175 582 298 133 100  63 418 649 315 629 465 587\n",
            " 405 836 134 965 604 574 821 741 866 703]\n",
            "Prime Numbers:\n",
            " [277 733 503 547  83  79 239 587 271 829  17 269 587 821]\n"
          ]
        }
      ]
    },
    {
      "cell_type": "markdown",
      "source": [
        "# **Output**\n",
        "This code will print the array of random integers and the prime numbers found within that array. Each time I run the code, I'll get a different set of random integers.\n",
        "\n",
        "\n",
        "\n"
      ],
      "metadata": {
        "id": "ZKDH0GV9P7QJ"
      }
    },
    {
      "cell_type": "code",
      "source": [
        "#10. Create a NumPy array representing daily temperatures for a month. Calculate and display the weekly\n",
        "averages."
      ],
      "metadata": {
        "id": "842fNEloQAuy"
      },
      "execution_count": null,
      "outputs": []
    },
    {
      "cell_type": "markdown",
      "source": [
        "I can create a NumPy array representing daily temperatures for a month and then calculate the weekly averages as follows:"
      ],
      "metadata": {
        "id": "WVeMTY9sQMeh"
      }
    },
    {
      "cell_type": "code",
      "source": [
        "import numpy as np\n",
        "\n",
        "# Create a NumPy array representing daily temperatures for a month (30 days)\n",
        "# For example, using random temperatures between 20 and 35 degrees Celsius\n",
        "daily_temperatures = np.random.randint(20, 36, size=30)\n",
        "\n",
        "# Reshape the array to a 4x7 format (4 weeks, 7 days each)\n",
        "weekly_temperatures = daily_temperatures.reshape(4, 7)\n",
        "\n",
        "# Calculate the weekly averages\n",
        "weekly_averages = np.mean(weekly_temperatures, axis=1)\n",
        "\n",
        "# Print the results\n",
        "print(\"Daily Temperatures for the Month:\\n\", daily_temperatures)\n",
        "print(\"Weekly Averages:\\n\", weekly_averages)\n"
      ],
      "metadata": {
        "id": "Ko9hGXysQyWS"
      },
      "execution_count": null,
      "outputs": []
    },
    {
      "cell_type": "markdown",
      "source": [
        "# **Output**\n",
        "This code will generate random daily temperatures and calculate the weekly averages. Each time you run it, I'll see a different set of temperatures and averages. The weekly averages will show the average temperature for each of the four weeks.\n",
        "\n",
        "\n",
        "\n"
      ],
      "metadata": {
        "id": "IhqHf2SoQ3pU"
      }
    },
    {
      "cell_type": "code",
      "source": [],
      "metadata": {
        "id": "gMB0YOhTRAIV"
      },
      "execution_count": null,
      "outputs": []
    }
  ]
}